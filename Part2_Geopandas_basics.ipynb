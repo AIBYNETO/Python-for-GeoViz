{
 "cells": [
  {
   "cell_type": "markdown",
   "id": "b9a49ded",
   "metadata": {},
   "source": [
    "# 2. Geopandas Basics"
   ]
  },
  {
   "cell_type": "markdown",
   "id": "1f4f6267",
   "metadata": {},
   "source": [
    "## Required Libraries and Tools"
   ]
  },
  {
   "cell_type": "code",
   "execution_count": 1,
   "id": "6ade7cb8",
   "metadata": {},
   "outputs": [],
   "source": [
    "import pandas as pd\n",
    "import geopandas as gpd\n",
    "from shapely.geometry import Point, MultiPoint, Polygon"
   ]
  },
  {
   "cell_type": "markdown",
   "id": "068dedb3",
   "metadata": {},
   "source": [
    "## 2.1 Data structure"
   ]
  },
  {
   "cell_type": "markdown",
   "id": "e96d0656",
   "metadata": {},
   "source": [
    "Basic geometric objects:  \n",
    "- Points / Multi-Points  \n",
    "- Lines / Multi-Lines  \n",
    "- Polygons / Multi-Polygons  \n",
    "\n",
    "A geometry is valid if:  \n",
    "- Points are just a single location in space\n",
    "- LineStrings are a series of points connected by straight, non-intersecting line segments\n",
    "- Polygons must be simple, meaning their boundaries cannot self-intersect"
   ]
  },
  {
   "cell_type": "markdown",
   "id": "61da1cde",
   "metadata": {},
   "source": [
    "### 2.1.1 GeoSeries"
   ]
  },
  {
   "cell_type": "code",
   "execution_count": 2,
   "id": "74b284f6",
   "metadata": {},
   "outputs": [
    {
     "data": {
      "text/plain": [
       "0    POINT (1.00000 1.00000)\n",
       "1    POINT (2.00000 2.00000)\n",
       "2    POINT (3.00000 3.00000)\n",
       "dtype: geometry"
      ]
     },
     "execution_count": 2,
     "metadata": {},
     "output_type": "execute_result"
    }
   ],
   "source": [
    "crs = 'EPSG:4326'                                #Define your desired crs\n",
    "points = [Point(1, 1), Point(2, 2), Point(3, 3)] #Create a list of Point objects\n",
    "s = gpd.GeoSeries(points, crs=crs)\n",
    "s"
   ]
  },
  {
   "cell_type": "markdown",
   "id": "3221f167",
   "metadata": {},
   "source": [
    "### 2.1.2 GeoDataFrame"
   ]
  },
  {
   "cell_type": "markdown",
   "id": "7103bcc1",
   "metadata": {},
   "source": [
    "#### Constructing GeoDataFrame from a dictionary"
   ]
  },
  {
   "cell_type": "code",
   "execution_count": 3,
   "id": "07a0fc48",
   "metadata": {},
   "outputs": [
    {
     "data": {
      "text/html": [
       "<div>\n",
       "<style scoped>\n",
       "    .dataframe tbody tr th:only-of-type {\n",
       "        vertical-align: middle;\n",
       "    }\n",
       "\n",
       "    .dataframe tbody tr th {\n",
       "        vertical-align: top;\n",
       "    }\n",
       "\n",
       "    .dataframe thead th {\n",
       "        text-align: right;\n",
       "    }\n",
       "</style>\n",
       "<table border=\"1\" class=\"dataframe\">\n",
       "  <thead>\n",
       "    <tr style=\"text-align: right;\">\n",
       "      <th></th>\n",
       "      <th>name</th>\n",
       "      <th>geometry</th>\n",
       "    </tr>\n",
       "  </thead>\n",
       "  <tbody>\n",
       "    <tr>\n",
       "      <th>0</th>\n",
       "      <td>a</td>\n",
       "      <td>POINT (1.00000 1.00000)</td>\n",
       "    </tr>\n",
       "    <tr>\n",
       "      <th>1</th>\n",
       "      <td>b</td>\n",
       "      <td>POINT (2.00000 2.00000)</td>\n",
       "    </tr>\n",
       "    <tr>\n",
       "      <th>2</th>\n",
       "      <td>c</td>\n",
       "      <td>POINT (3.00000 3.00000)</td>\n",
       "    </tr>\n",
       "  </tbody>\n",
       "</table>\n",
       "</div>"
      ],
      "text/plain": [
       "  name                 geometry\n",
       "0    a  POINT (1.00000 1.00000)\n",
       "1    b  POINT (2.00000 2.00000)\n",
       "2    c  POINT (3.00000 3.00000)"
      ]
     },
     "execution_count": 3,
     "metadata": {},
     "output_type": "execute_result"
    }
   ],
   "source": [
    "attr_name = ['a', 'b', 'c']                     #Create a list of attribute names\n",
    "d = {'name': attr_name, 'geometry': points}\n",
    "gdf = gpd.GeoDataFrame(d, crs=crs)\n",
    "gdf"
   ]
  },
  {
   "cell_type": "markdown",
   "id": "404c5440",
   "metadata": {},
   "source": [
    "#### Constructing GeoDataFrame from a PandasDataFrame  \n",
    "- PandasDF contains geometries in a form of wkt  \n",
    "Note: Well-known text (WKT) is a text markup language for representing vector geometry objects  \n",
    "ref: https://en.wikipedia.org/wiki/Well-known_text_representation_of_geometry"
   ]
  },
  {
   "cell_type": "code",
   "execution_count": 4,
   "id": "1187ce0c",
   "metadata": {
    "scrolled": true
   },
   "outputs": [
    {
     "data": {
      "text/html": [
       "<div>\n",
       "<style scoped>\n",
       "    .dataframe tbody tr th:only-of-type {\n",
       "        vertical-align: middle;\n",
       "    }\n",
       "\n",
       "    .dataframe tbody tr th {\n",
       "        vertical-align: top;\n",
       "    }\n",
       "\n",
       "    .dataframe thead th {\n",
       "        text-align: right;\n",
       "    }\n",
       "</style>\n",
       "<table border=\"1\" class=\"dataframe\">\n",
       "  <thead>\n",
       "    <tr style=\"text-align: right;\">\n",
       "      <th></th>\n",
       "      <th>name</th>\n",
       "      <th>geometry</th>\n",
       "    </tr>\n",
       "  </thead>\n",
       "  <tbody>\n",
       "    <tr>\n",
       "      <th>0</th>\n",
       "      <td>a</td>\n",
       "      <td>POINT (1 1)</td>\n",
       "    </tr>\n",
       "    <tr>\n",
       "      <th>1</th>\n",
       "      <td>b</td>\n",
       "      <td>POINT (2 2)</td>\n",
       "    </tr>\n",
       "    <tr>\n",
       "      <th>2</th>\n",
       "      <td>c</td>\n",
       "      <td>POINT (3 3)</td>\n",
       "    </tr>\n",
       "  </tbody>\n",
       "</table>\n",
       "</div>"
      ],
      "text/plain": [
       "  name     geometry\n",
       "0    a  POINT (1 1)\n",
       "1    b  POINT (2 2)\n",
       "2    c  POINT (3 3)"
      ]
     },
     "execution_count": 4,
     "metadata": {},
     "output_type": "execute_result"
    }
   ],
   "source": [
    "wkt_points = list(map(lambda point: point.wkt, points)) #Create a list of WKT representations of the points\n",
    "d = {'name': attr_name, 'geometry': wkt_points}         \n",
    "df = pd.DataFrame(d)\n",
    "df"
   ]
  },
  {
   "cell_type": "code",
   "execution_count": 5,
   "id": "6c8f02dc",
   "metadata": {},
   "outputs": [
    {
     "data": {
      "text/html": [
       "<div>\n",
       "<style scoped>\n",
       "    .dataframe tbody tr th:only-of-type {\n",
       "        vertical-align: middle;\n",
       "    }\n",
       "\n",
       "    .dataframe tbody tr th {\n",
       "        vertical-align: top;\n",
       "    }\n",
       "\n",
       "    .dataframe thead th {\n",
       "        text-align: right;\n",
       "    }\n",
       "</style>\n",
       "<table border=\"1\" class=\"dataframe\">\n",
       "  <thead>\n",
       "    <tr style=\"text-align: right;\">\n",
       "      <th></th>\n",
       "      <th>name</th>\n",
       "      <th>geometry</th>\n",
       "    </tr>\n",
       "  </thead>\n",
       "  <tbody>\n",
       "    <tr>\n",
       "      <th>0</th>\n",
       "      <td>a</td>\n",
       "      <td>POINT (1.00000 1.00000)</td>\n",
       "    </tr>\n",
       "    <tr>\n",
       "      <th>1</th>\n",
       "      <td>b</td>\n",
       "      <td>POINT (2.00000 2.00000)</td>\n",
       "    </tr>\n",
       "    <tr>\n",
       "      <th>2</th>\n",
       "      <td>c</td>\n",
       "      <td>POINT (3.00000 3.00000)</td>\n",
       "    </tr>\n",
       "  </tbody>\n",
       "</table>\n",
       "</div>"
      ],
      "text/plain": [
       "  name                 geometry\n",
       "0    a  POINT (1.00000 1.00000)\n",
       "1    b  POINT (2.00000 2.00000)\n",
       "2    c  POINT (3.00000 3.00000)"
      ]
     },
     "execution_count": 5,
     "metadata": {},
     "output_type": "execute_result"
    }
   ],
   "source": [
    "geometry = gpd.GeoSeries.from_wkt(df['geometry'])       #Convert WKT strings to geometric objects\n",
    "gdf = gpd.GeoDataFrame(df, geometry=geometry, crs=crs)  #Constructing GeoDF from a PandasDF\n",
    "gdf"
   ]
  },
  {
   "cell_type": "markdown",
   "id": "16d87dce",
   "metadata": {},
   "source": [
    "- PandasDF contains coornidates in separate columns "
   ]
  },
  {
   "cell_type": "code",
   "execution_count": 6,
   "id": "501884a8",
   "metadata": {},
   "outputs": [
    {
     "data": {
      "text/html": [
       "<div>\n",
       "<style scoped>\n",
       "    .dataframe tbody tr th:only-of-type {\n",
       "        vertical-align: middle;\n",
       "    }\n",
       "\n",
       "    .dataframe tbody tr th {\n",
       "        vertical-align: top;\n",
       "    }\n",
       "\n",
       "    .dataframe thead th {\n",
       "        text-align: right;\n",
       "    }\n",
       "</style>\n",
       "<table border=\"1\" class=\"dataframe\">\n",
       "  <thead>\n",
       "    <tr style=\"text-align: right;\">\n",
       "      <th></th>\n",
       "      <th>name</th>\n",
       "      <th>x</th>\n",
       "      <th>y</th>\n",
       "    </tr>\n",
       "  </thead>\n",
       "  <tbody>\n",
       "    <tr>\n",
       "      <th>0</th>\n",
       "      <td>a</td>\n",
       "      <td>1</td>\n",
       "      <td>1</td>\n",
       "    </tr>\n",
       "    <tr>\n",
       "      <th>1</th>\n",
       "      <td>b</td>\n",
       "      <td>2</td>\n",
       "      <td>2</td>\n",
       "    </tr>\n",
       "    <tr>\n",
       "      <th>2</th>\n",
       "      <td>c</td>\n",
       "      <td>3</td>\n",
       "      <td>3</td>\n",
       "    </tr>\n",
       "  </tbody>\n",
       "</table>\n",
       "</div>"
      ],
      "text/plain": [
       "  name  x  y\n",
       "0    a  1  1\n",
       "1    b  2  2\n",
       "2    c  3  3"
      ]
     },
     "execution_count": 6,
     "metadata": {},
     "output_type": "execute_result"
    }
   ],
   "source": [
    "d = {'name': ['a', 'b', 'c'], 'x': [1,2,3], 'y':[1,2,3]}\n",
    "df = pd.DataFrame(d)\n",
    "df"
   ]
  },
  {
   "cell_type": "code",
   "execution_count": 7,
   "id": "9195f2ec",
   "metadata": {},
   "outputs": [
    {
     "data": {
      "text/html": [
       "<div>\n",
       "<style scoped>\n",
       "    .dataframe tbody tr th:only-of-type {\n",
       "        vertical-align: middle;\n",
       "    }\n",
       "\n",
       "    .dataframe tbody tr th {\n",
       "        vertical-align: top;\n",
       "    }\n",
       "\n",
       "    .dataframe thead th {\n",
       "        text-align: right;\n",
       "    }\n",
       "</style>\n",
       "<table border=\"1\" class=\"dataframe\">\n",
       "  <thead>\n",
       "    <tr style=\"text-align: right;\">\n",
       "      <th></th>\n",
       "      <th>name</th>\n",
       "      <th>x</th>\n",
       "      <th>y</th>\n",
       "      <th>geometry</th>\n",
       "    </tr>\n",
       "  </thead>\n",
       "  <tbody>\n",
       "    <tr>\n",
       "      <th>0</th>\n",
       "      <td>a</td>\n",
       "      <td>1</td>\n",
       "      <td>1</td>\n",
       "      <td>POINT (1.00000 1.00000)</td>\n",
       "    </tr>\n",
       "    <tr>\n",
       "      <th>1</th>\n",
       "      <td>b</td>\n",
       "      <td>2</td>\n",
       "      <td>2</td>\n",
       "      <td>POINT (2.00000 2.00000)</td>\n",
       "    </tr>\n",
       "    <tr>\n",
       "      <th>2</th>\n",
       "      <td>c</td>\n",
       "      <td>3</td>\n",
       "      <td>3</td>\n",
       "      <td>POINT (3.00000 3.00000)</td>\n",
       "    </tr>\n",
       "  </tbody>\n",
       "</table>\n",
       "</div>"
      ],
      "text/plain": [
       "  name  x  y                 geometry\n",
       "0    a  1  1  POINT (1.00000 1.00000)\n",
       "1    b  2  2  POINT (2.00000 2.00000)\n",
       "2    c  3  3  POINT (3.00000 3.00000)"
      ]
     },
     "execution_count": 7,
     "metadata": {},
     "output_type": "execute_result"
    }
   ],
   "source": [
    "geometry = gpd.points_from_xy(df['x'], df['y'])         #Create a GeoSeries of Point objects from the 'x' and 'y' columns                \n",
    "gdf = gpd.GeoDataFrame(df, geometry=geometry, crs=crs)\n",
    "gdf"
   ]
  },
  {
   "cell_type": "markdown",
   "id": "ac6561e2",
   "metadata": {},
   "source": [
    "- GeoDF contains Multi-point geometry"
   ]
  },
  {
   "cell_type": "code",
   "execution_count": 8,
   "id": "eeadcdca",
   "metadata": {},
   "outputs": [
    {
     "data": {
      "text/html": [
       "<div>\n",
       "<style scoped>\n",
       "    .dataframe tbody tr th:only-of-type {\n",
       "        vertical-align: middle;\n",
       "    }\n",
       "\n",
       "    .dataframe tbody tr th {\n",
       "        vertical-align: top;\n",
       "    }\n",
       "\n",
       "    .dataframe thead th {\n",
       "        text-align: right;\n",
       "    }\n",
       "</style>\n",
       "<table border=\"1\" class=\"dataframe\">\n",
       "  <thead>\n",
       "    <tr style=\"text-align: right;\">\n",
       "      <th></th>\n",
       "      <th>name</th>\n",
       "      <th>geometry</th>\n",
       "    </tr>\n",
       "  </thead>\n",
       "  <tbody>\n",
       "    <tr>\n",
       "      <th>0</th>\n",
       "      <td>multi</td>\n",
       "      <td>MULTIPOINT (0.25000 1.00000, 0.50000 2.00000, ...</td>\n",
       "    </tr>\n",
       "  </tbody>\n",
       "</table>\n",
       "</div>"
      ],
      "text/plain": [
       "    name                                           geometry\n",
       "0  multi  MULTIPOINT (0.25000 1.00000, 0.50000 2.00000, ..."
      ]
     },
     "execution_count": 8,
     "metadata": {},
     "output_type": "execute_result"
    }
   ],
   "source": [
    "m = {'name': ['multi'], 'geometry': MultiPoint([Point(0.25, 1), Point(0.5, 2), Point(0.75, 3)])}\n",
    "gdf_multi = gpd.GeoDataFrame(m, crs=crs)\n",
    "gdf_multi"
   ]
  },
  {
   "cell_type": "markdown",
   "id": "24612140",
   "metadata": {},
   "source": [
    "- Concatenate two GeoDFs"
   ]
  },
  {
   "cell_type": "code",
   "execution_count": 9,
   "id": "9b2f3ba3",
   "metadata": {},
   "outputs": [
    {
     "data": {
      "text/html": [
       "<div>\n",
       "<style scoped>\n",
       "    .dataframe tbody tr th:only-of-type {\n",
       "        vertical-align: middle;\n",
       "    }\n",
       "\n",
       "    .dataframe tbody tr th {\n",
       "        vertical-align: top;\n",
       "    }\n",
       "\n",
       "    .dataframe thead th {\n",
       "        text-align: right;\n",
       "    }\n",
       "</style>\n",
       "<table border=\"1\" class=\"dataframe\">\n",
       "  <thead>\n",
       "    <tr style=\"text-align: right;\">\n",
       "      <th></th>\n",
       "      <th>name</th>\n",
       "      <th>x</th>\n",
       "      <th>y</th>\n",
       "      <th>geometry</th>\n",
       "    </tr>\n",
       "  </thead>\n",
       "  <tbody>\n",
       "    <tr>\n",
       "      <th>0</th>\n",
       "      <td>a</td>\n",
       "      <td>1.0</td>\n",
       "      <td>1.0</td>\n",
       "      <td>POINT (1.00000 1.00000)</td>\n",
       "    </tr>\n",
       "    <tr>\n",
       "      <th>1</th>\n",
       "      <td>b</td>\n",
       "      <td>2.0</td>\n",
       "      <td>2.0</td>\n",
       "      <td>POINT (2.00000 2.00000)</td>\n",
       "    </tr>\n",
       "    <tr>\n",
       "      <th>2</th>\n",
       "      <td>c</td>\n",
       "      <td>3.0</td>\n",
       "      <td>3.0</td>\n",
       "      <td>POINT (3.00000 3.00000)</td>\n",
       "    </tr>\n",
       "    <tr>\n",
       "      <th>3</th>\n",
       "      <td>multi</td>\n",
       "      <td>NaN</td>\n",
       "      <td>NaN</td>\n",
       "      <td>MULTIPOINT (0.25000 1.00000, 0.50000 2.00000, ...</td>\n",
       "    </tr>\n",
       "  </tbody>\n",
       "</table>\n",
       "</div>"
      ],
      "text/plain": [
       "    name    x    y                                           geometry\n",
       "0      a  1.0  1.0                            POINT (1.00000 1.00000)\n",
       "1      b  2.0  2.0                            POINT (2.00000 2.00000)\n",
       "2      c  3.0  3.0                            POINT (3.00000 3.00000)\n",
       "3  multi  NaN  NaN  MULTIPOINT (0.25000 1.00000, 0.50000 2.00000, ..."
      ]
     },
     "execution_count": 9,
     "metadata": {},
     "output_type": "execute_result"
    }
   ],
   "source": [
    "gdf_concat = pd.concat([gdf, gdf_multi], ignore_index=True)\n",
    "gdf_concat"
   ]
  },
  {
   "cell_type": "markdown",
   "id": "d572acb3",
   "metadata": {},
   "source": [
    "## 2.2 Basic methods and attributes"
   ]
  },
  {
   "cell_type": "markdown",
   "id": "070e7c12",
   "metadata": {},
   "source": [
    "### Download World administrative boundaries data from\n",
    "https://public.opendatasoft.com/explore/dataset/world-administrative-boundaries/export/?sort=iso3"
   ]
  },
  {
   "cell_type": "code",
   "execution_count": 10,
   "id": "fc7e3827",
   "metadata": {},
   "outputs": [],
   "source": [
    "# Adjust 'data_path' to the actual path where your data files are located\n",
    "data_path = './data/'\n",
    "gdf = gpd.read_file(data_path + 'asia-administrative-boundaries/cntry_3m.shp')"
   ]
  },
  {
   "cell_type": "markdown",
   "id": "a127c39e",
   "metadata": {},
   "source": [
    "### 2.2.1 Attributes"
   ]
  },
  {
   "cell_type": "markdown",
   "id": "3350efd1",
   "metadata": {},
   "source": [
    "#### geom_type: type of geometry"
   ]
  },
  {
   "cell_type": "code",
   "execution_count": 11,
   "id": "074443bc",
   "metadata": {},
   "outputs": [
    {
     "data": {
      "text/plain": [
       "array(['Polygon'], dtype=object)"
      ]
     },
     "execution_count": 11,
     "metadata": {},
     "output_type": "execute_result"
    }
   ],
   "source": [
    "gdf['geometry'].geom_type.unique()"
   ]
  },
  {
   "cell_type": "markdown",
   "id": "932b2622",
   "metadata": {},
   "source": [
    "#### is_valid: tests if coordinates make a shape that is reasonable geometric shape"
   ]
  },
  {
   "cell_type": "code",
   "execution_count": 12,
   "id": "df5fb4d2",
   "metadata": {},
   "outputs": [],
   "source": [
    "s = gpd.GeoSeries(\n",
    "    [\n",
    "        Polygon([(0, 0), (1, 1), (0, 1)]),\n",
    "        Polygon([(0, 0), (1, 1), (0, 1)]),\n",
    "        Polygon([(0, 0), (0, 2), (1, 1), (2, 2), (2, 0), (1, 1), (0, 0)]),  # bowtie geometry (its boundaries intersect itselfs)\n",
    "        Polygon([(0, 0), (2, 2), (2, 0)]),\n",
    "        None\n",
    "    ]\n",
    ")"
   ]
  },
  {
   "cell_type": "code",
   "execution_count": 13,
   "id": "bfafcd80",
   "metadata": {},
   "outputs": [
    {
     "name": "stdout",
     "output_type": "stream",
     "text": [
      "Valid geometry 3 \n",
      "Invalid geometry 2\n"
     ]
    }
   ],
   "source": [
    "geom_val = s.is_valid.sum()            #valid geometries\n",
    "geom_inval = (~s.is_valid).sum()       #invalid geometries\n",
    "print(f'Valid geometry {geom_val} \\nInvalid geometry {geom_inval}')"
   ]
  },
  {
   "cell_type": "markdown",
   "id": "5212f0ad",
   "metadata": {},
   "source": [
    "#### total_bounds: tuple of max and min coordinates on each axis"
   ]
  },
  {
   "cell_type": "code",
   "execution_count": 14,
   "id": "32c79e3b",
   "metadata": {},
   "outputs": [
    {
     "data": {
      "text/plain": [
       "array([ 7585247.18648638, -7314247.13658576, 19157028.51537167,\n",
       "        7086219.3245197 ])"
      ]
     },
     "execution_count": 14,
     "metadata": {},
     "output_type": "execute_result"
    }
   ],
   "source": [
    "gdf.total_bounds"
   ]
  },
  {
   "cell_type": "markdown",
   "id": "ea7a9568",
   "metadata": {},
   "source": [
    "### 2.2.2 Methods"
   ]
  },
  {
   "cell_type": "markdown",
   "id": "55fff61e",
   "metadata": {},
   "source": [
    "#### explode(): explode multi-part geometries into multiple single geometries"
   ]
  },
  {
   "cell_type": "code",
   "execution_count": 15,
   "id": "46b52891",
   "metadata": {},
   "outputs": [
    {
     "data": {
      "text/html": [
       "<div>\n",
       "<style scoped>\n",
       "    .dataframe tbody tr th:only-of-type {\n",
       "        vertical-align: middle;\n",
       "    }\n",
       "\n",
       "    .dataframe tbody tr th {\n",
       "        vertical-align: top;\n",
       "    }\n",
       "\n",
       "    .dataframe thead th {\n",
       "        text-align: right;\n",
       "    }\n",
       "</style>\n",
       "<table border=\"1\" class=\"dataframe\">\n",
       "  <thead>\n",
       "    <tr style=\"text-align: right;\">\n",
       "      <th></th>\n",
       "      <th>name</th>\n",
       "      <th>x</th>\n",
       "      <th>y</th>\n",
       "      <th>geometry</th>\n",
       "    </tr>\n",
       "  </thead>\n",
       "  <tbody>\n",
       "    <tr>\n",
       "      <th>0</th>\n",
       "      <td>a</td>\n",
       "      <td>1.0</td>\n",
       "      <td>1.0</td>\n",
       "      <td>POINT (1.00000 1.00000)</td>\n",
       "    </tr>\n",
       "    <tr>\n",
       "      <th>1</th>\n",
       "      <td>b</td>\n",
       "      <td>2.0</td>\n",
       "      <td>2.0</td>\n",
       "      <td>POINT (2.00000 2.00000)</td>\n",
       "    </tr>\n",
       "    <tr>\n",
       "      <th>2</th>\n",
       "      <td>c</td>\n",
       "      <td>3.0</td>\n",
       "      <td>3.0</td>\n",
       "      <td>POINT (3.00000 3.00000)</td>\n",
       "    </tr>\n",
       "    <tr>\n",
       "      <th>3</th>\n",
       "      <td>multi</td>\n",
       "      <td>NaN</td>\n",
       "      <td>NaN</td>\n",
       "      <td>POINT (0.25000 1.00000)</td>\n",
       "    </tr>\n",
       "    <tr>\n",
       "      <th>4</th>\n",
       "      <td>multi</td>\n",
       "      <td>NaN</td>\n",
       "      <td>NaN</td>\n",
       "      <td>POINT (0.50000 2.00000)</td>\n",
       "    </tr>\n",
       "    <tr>\n",
       "      <th>5</th>\n",
       "      <td>multi</td>\n",
       "      <td>NaN</td>\n",
       "      <td>NaN</td>\n",
       "      <td>POINT (0.75000 3.00000)</td>\n",
       "    </tr>\n",
       "  </tbody>\n",
       "</table>\n",
       "</div>"
      ],
      "text/plain": [
       "    name    x    y                 geometry\n",
       "0      a  1.0  1.0  POINT (1.00000 1.00000)\n",
       "1      b  2.0  2.0  POINT (2.00000 2.00000)\n",
       "2      c  3.0  3.0  POINT (3.00000 3.00000)\n",
       "3  multi  NaN  NaN  POINT (0.25000 1.00000)\n",
       "4  multi  NaN  NaN  POINT (0.50000 2.00000)\n",
       "5  multi  NaN  NaN  POINT (0.75000 3.00000)"
      ]
     },
     "execution_count": 15,
     "metadata": {},
     "output_type": "execute_result"
    }
   ],
   "source": [
    "exploded = gdf_concat.explode(ignore_index=True)\n",
    "exploded"
   ]
  },
  {
   "cell_type": "markdown",
   "id": "7f8dbf61",
   "metadata": {},
   "source": [
    "#### make_valid(): fix invalid geometry"
   ]
  },
  {
   "cell_type": "code",
   "execution_count": 16,
   "id": "f358f12a",
   "metadata": {},
   "outputs": [
    {
     "data": {
      "text/plain": [
       "0    POLYGON ((0.00000 0.00000, 1.00000 1.00000, 0....\n",
       "1    POLYGON ((0.00000 0.00000, 1.00000 1.00000, 0....\n",
       "2    MULTIPOLYGON (((1.00000 1.00000, 0.00000 0.000...\n",
       "3    POLYGON ((0.00000 0.00000, 2.00000 2.00000, 2....\n",
       "4                                                 None\n",
       "dtype: geometry"
      ]
     },
     "execution_count": 16,
     "metadata": {},
     "output_type": "execute_result"
    }
   ],
   "source": [
    "s.make_valid()"
   ]
  },
  {
   "cell_type": "markdown",
   "id": "5813669b",
   "metadata": {},
   "source": [
    "#### set_crs() and to_crs(): assign crs to gs/gdf and change crs of gd/gdf respectively"
   ]
  },
  {
   "cell_type": "code",
   "execution_count": 17,
   "id": "1f3fa082",
   "metadata": {},
   "outputs": [],
   "source": [
    "proj = '+proj=longlat +datum=WGS84 +no_defs +type=crs'\n",
    "gdf.to_crs(crs=proj, inplace=True) #or\n",
    "# gdf.to_crs(crs=crs, inplace=True)"
   ]
  },
  {
   "cell_type": "markdown",
   "id": "dfc02bcf",
   "metadata": {},
   "source": [
    "#### to_file(): save file"
   ]
  },
  {
   "cell_type": "code",
   "execution_count": 18,
   "id": "3a156d4c",
   "metadata": {},
   "outputs": [],
   "source": [
    "out_path = 'path_to_your_output_folder/'\n",
    "# gdf.to_file( out_path + 'file_name.shp', driver='ESRI Shapefile' )"
   ]
  },
  {
   "cell_type": "markdown",
   "id": "4a779c03",
   "metadata": {},
   "source": [
    "#### plot()"
   ]
  },
  {
   "cell_type": "code",
   "execution_count": 19,
   "id": "240debfc",
   "metadata": {
    "scrolled": true
   },
   "outputs": [
    {
     "data": {
      "text/plain": [
       "<Axes: >"
      ]
     },
     "execution_count": 19,
     "metadata": {},
     "output_type": "execute_result"
    },
    {
     "data": {
      "image/png": "[encoded data removed]",
      "text/plain": [
       "<Figure size 640x480 with 1 Axes>"
      ]
     },
     "metadata": {},
     "output_type": "display_data"
    }
   ],
   "source": [
    "gdf.plot()"
   ]
  },
  {
   "cell_type": "markdown",
   "id": "0a74976b",
   "metadata": {},
   "source": [
    "## 2.3 Clip data"
   ]
  },
  {
   "cell_type": "markdown",
   "id": "ffb6c42b",
   "metadata": {},
   "source": [
    "### 2.3.1 Clipping by mask extent"
   ]
  },
  {
   "cell_type": "code",
   "execution_count": 20,
   "id": "48b917f4",
   "metadata": {},
   "outputs": [],
   "source": [
    "# Define the coordinates for the bounding box to clip the data\n",
    "# These coordinates must be in the same CRS as the original data\n",
    "xmin, ymin, xmax, ymax = 95, 5, 110, 25\n",
    "tha = gpd.clip(gdf, mask=(xmin, ymin, xmax, ymax))"
   ]
  },
  {
   "cell_type": "code",
   "execution_count": 21,
   "id": "13ec4971",
   "metadata": {},
   "outputs": [
    {
     "data": {
      "text/plain": [
       "<Axes: >"
      ]
     },
     "execution_count": 21,
     "metadata": {},
     "output_type": "execute_result"
    },
    {
     "data": {
      "image/png": "[encoded data removed]",
      "text/plain": [
       "<Figure size 640x480 with 1 Axes>"
      ]
     },
     "metadata": {},
     "output_type": "display_data"
    }
   ],
   "source": [
    "tha.plot()"
   ]
  },
  {
   "cell_type": "markdown",
   "id": "bab6c795",
   "metadata": {},
   "source": [
    "### 2.3.2 Clipping by vector data (shapefile)"
   ]
  },
  {
   "cell_type": "code",
   "execution_count": 22,
   "id": "893e5378",
   "metadata": {},
   "outputs": [],
   "source": [
    "tha_shp = gpd.clip(gdf, mask=tha.total_bounds) #Get the bounding box info from the total_bounds attribute"
   ]
  },
  {
   "cell_type": "code",
   "execution_count": 23,
   "id": "7b6c9aed",
   "metadata": {},
   "outputs": [
    {
     "data": {
      "text/plain": [
       "<Axes: >"
      ]
     },
     "execution_count": 23,
     "metadata": {},
     "output_type": "execute_result"
    },
    {
     "data": {
      "image/png": "[encoded data removed]",
      "text/plain": [
       "<Figure size 640x480 with 1 Axes>"
      ]
     },
     "metadata": {},
     "output_type": "display_data"
    }
   ],
   "source": [
    "tha_shp.plot()"
   ]
  },
  {
   "cell_type": "markdown",
   "id": "962e58e7",
   "metadata": {},
   "source": [
    "### 2.3.3 Clipping by raster data  \n",
    "#### download Thailand population density data from:  \n",
    "https://hub.worldpop.org/geodata/summary?id=44120"
   ]
  },
  {
   "cell_type": "code",
   "execution_count": 24,
   "id": "9d792896",
   "metadata": {},
   "outputs": [],
   "source": [
    "# Libraries for working with raster data\n",
    "import xarray as xr\n",
    "import rasterio"
   ]
  },
  {
   "cell_type": "markdown",
   "id": "41eb846d",
   "metadata": {},
   "source": [
    "- Using Xarray"
   ]
  },
  {
   "cell_type": "code",
   "execution_count": 25,
   "id": "3df6869d",
   "metadata": {},
   "outputs": [],
   "source": [
    "pop = xr.open_dataarray(data_path + 'tha_pd_2020_1km.tif')"
   ]
  },
  {
   "cell_type": "code",
   "execution_count": 26,
   "id": "26209a25",
   "metadata": {},
   "outputs": [
    {
     "data": {
      "text/html": [
       "<div><svg style=\"position: absolute; width: 0; height: 0; overflow: hidden\">\n",
       "<defs>\n",
       "<symbol id=\"icon-database\" viewBox=\"0 0 32 32\">\n",
       "<path d=\"M16 0c-8.837 0-16 2.239-16 5v4c0 2.761 7.163 5 16 5s16-2.239 16-5v-4c0-2.761-7.163-5-16-5z\"></path>\n",
       "<path d=\"M16 17c-8.837 0-16-2.239-16-5v6c0 2.761 7.163 5 16 5s16-2.239 16-5v-6c0 2.761-7.163 5-16 5z\"></path>\n",
       "<path d=\"M16 26c-8.837 0-16-2.239-16-5v6c0 2.761 7.163 5 16 5s16-2.239 16-5v-6c0 2.761-7.163 5-16 5z\"></path>\n",
       "</symbol>\n",
       "<symbol id=\"icon-file-text2\" viewBox=\"0 0 32 32\">\n",
       "<path d=\"M28.681 7.159c-0.694-0.947-1.662-2.053-2.724-3.116s-2.169-2.030-3.116-2.724c-1.612-1.182-2.393-1.319-2.841-1.319h-15.5c-1.378 0-2.5 1.121-2.5 2.5v27c0 1.378 1.122 2.5 2.5 2.5h23c1.378 0 2.5-1.122 2.5-2.5v-19.5c0-0.448-0.137-1.23-1.319-2.841zM24.543 5.457c0.959 0.959 1.712 1.825 2.268 2.543h-4.811v-4.811c0.718 0.556 1.584 1.309 2.543 2.268zM28 29.5c0 0.271-0.229 0.5-0.5 0.5h-23c-0.271 0-0.5-0.229-0.5-0.5v-27c0-0.271 0.229-0.5 0.5-0.5 0 0 15.499-0 15.5 0v7c0 0.552 0.448 1 1 1h7v19.5z\"></path>\n",
       "<path d=\"M23 26h-14c-0.552 0-1-0.448-1-1s0.448-1 1-1h14c0.552 0 1 0.448 1 1s-0.448 1-1 1z\"></path>\n",
       "<path d=\"M23 22h-14c-0.552 0-1-0.448-1-1s0.448-1 1-1h14c0.552 0 1 0.448 1 1s-0.448 1-1 1z\"></path>\n",
       "<path d=\"M23 18h-14c-0.552 0-1-0.448-1-1s0.448-1 1-1h14c0.552 0 1 0.448 1 1s-0.448 1-1 1z\"></path>\n",
       "</symbol>\n",
       "</defs>\n",
       "</svg>\n",
       "<style>/* CSS stylesheet for displaying xarray objects in jupyterlab.\n",
       " *\n",
       " */\n",
       "\n",
       ":root {\n",
       "  --xr-font-color0: var(--jp-content-font-color0, rgba(0, 0, 0, 1));\n",
       "  --xr-font-color2: var(--jp-content-font-color2, rgba(0, 0, 0, 0.54));\n",
       "  --xr-font-color3: var(--jp-content-font-color3, rgba(0, 0, 0, 0.38));\n",
       "  --xr-border-color: var(--jp-border-color2, #e0e0e0);\n",
       "  --xr-disabled-color: var(--jp-layout-color3, #bdbdbd);\n",
       "  --xr-background-color: var(--jp-layout-color0, white);\n",
       "  --xr-background-color-row-even: var(--jp-layout-color1, white);\n",
       "  --xr-background-color-row-odd: var(--jp-layout-color2, #eeeeee);\n",
       "}\n",
       "\n",
       "html[theme=dark],\n",
       "body[data-theme=dark],\n",
       "body.vscode-dark {\n",
       "  --xr-font-color0: rgba(255, 255, 255, 1);\n",
       "  --xr-font-color2: rgba(255, 255, 255, 0.54);\n",
       "  --xr-font-color3: rgba(255, 255, 255, 0.38);\n",
       "  --xr-border-color: #1F1F1F;\n",
       "  --xr-disabled-color: #515151;\n",
       "  --xr-background-color: #111111;\n",
       "  --xr-background-color-row-even: #111111;\n",
       "  --xr-background-color-row-odd: #313131;\n",
       "}\n",
       "\n",
       ".xr-wrap {\n",
       "  display: block !important;\n",
       "  min-width: 300px;\n",
       "  max-width: 700px;\n",
       "}\n",
       "\n",
       ".xr-text-repr-fallback {\n",
       "  /* fallback to plain text repr when CSS is not injected (untrusted notebook) */\n",
       "  display: none;\n",
       "}\n",
       "\n",
       ".xr-header {\n",
       "  padding-top: 6px;\n",
       "  padding-bottom: 6px;\n",
       "  margin-bottom: 4px;\n",
       "  border-bottom: solid 1px var(--xr-border-color);\n",
       "}\n",
       "\n",
       ".xr-header > div,\n",
       ".xr-header > ul {\n",
       "  display: inline;\n",
       "  margin-top: 0;\n",
       "  margin-bottom: 0;\n",
       "}\n",
       "\n",
       ".xr-obj-type,\n",
       ".xr-array-name {\n",
       "  margin-left: 2px;\n",
       "  margin-right: 10px;\n",
       "}\n",
       "\n",
       ".xr-obj-type {\n",
       "  color: var(--xr-font-color2);\n",
       "}\n",
       "\n",
       ".xr-sections {\n",
       "  padding-left: 0 !important;\n",
       "  display: grid;\n",
       "  grid-template-columns: 150px auto auto 1fr 20px 20px;\n",
       "}\n",
       "\n",
       ".xr-section-item {\n",
       "  display: contents;\n",
       "}\n",
       "\n",
       ".xr-section-item input {\n",
       "  display: none;\n",
       "}\n",
       "\n",
       ".xr-section-item input + label {\n",
       "  color: var(--xr-disabled-color);\n",
       "}\n",
       "\n",
       ".xr-section-item input:enabled + label {\n",
       "  cursor: pointer;\n",
       "  color: var(--xr-font-color2);\n",
       "}\n",
       "\n",
       ".xr-section-item input:enabled + label:hover {\n",
       "  color: var(--xr-font-color0);\n",
       "}\n",
       "\n",
       ".xr-section-summary {\n",
       "  grid-column: 1;\n",
       "  color: var(--xr-font-color2);\n",
       "  font-weight: 500;\n",
       "}\n",
       "\n",
       ".xr-section-summary > span {\n",
       "  display: inline-block;\n",
       "  padding-left: 0.5em;\n",
       "}\n",
       "\n",
       ".xr-section-summary-in:disabled + label {\n",
       "  color: var(--xr-font-color2);\n",
       "}\n",
       "\n",
       ".xr-section-summary-in + label:before {\n",
       "  display: inline-block;\n",
       "  content: '►';\n",
       "  font-size: 11px;\n",
       "  width: 15px;\n",
       "  text-align: center;\n",
       "}\n",
       "\n",
       ".xr-section-summary-in:disabled + label:before {\n",
       "  color: var(--xr-disabled-color);\n",
       "}\n",
       "\n",
       ".xr-section-summary-in:checked + label:before {\n",
       "  content: '▼';\n",
       "}\n",
       "\n",
       ".xr-section-summary-in:checked + label > span {\n",
       "  display: none;\n",
       "}\n",
       "\n",
       ".xr-section-summary,\n",
       ".xr-section-inline-details {\n",
       "  padding-top: 4px;\n",
       "  padding-bottom: 4px;\n",
       "}\n",
       "\n",
       ".xr-section-inline-details {\n",
       "  grid-column: 2 / -1;\n",
       "}\n",
       "\n",
       ".xr-section-details {\n",
       "  display: none;\n",
       "  grid-column: 1 / -1;\n",
       "  margin-bottom: 5px;\n",
       "}\n",
       "\n",
       ".xr-section-summary-in:checked ~ .xr-section-details {\n",
       "  display: contents;\n",
       "}\n",
       "\n",
       ".xr-array-wrap {\n",
       "  grid-column: 1 / -1;\n",
       "  display: grid;\n",
       "  grid-template-columns: 20px auto;\n",
       "}\n",
       "\n",
       ".xr-array-wrap > label {\n",
       "  grid-column: 1;\n",
       "  vertical-align: top;\n",
       "}\n",
       "\n",
       ".xr-preview {\n",
       "  color: var(--xr-font-color3);\n",
       "}\n",
       "\n",
       ".xr-array-preview,\n",
       ".xr-array-data {\n",
       "  padding: 0 5px !important;\n",
       "  grid-column: 2;\n",
       "}\n",
       "\n",
       ".xr-array-data,\n",
       ".xr-array-in:checked ~ .xr-array-preview {\n",
       "  display: none;\n",
       "}\n",
       "\n",
       ".xr-array-in:checked ~ .xr-array-data,\n",
       ".xr-array-preview {\n",
       "  display: inline-block;\n",
       "}\n",
       "\n",
       ".xr-dim-list {\n",
       "  display: inline-block !important;\n",
       "  list-style: none;\n",
       "  padding: 0 !important;\n",
       "  margin: 0;\n",
       "}\n",
       "\n",
       ".xr-dim-list li {\n",
       "  display: inline-block;\n",
       "  padding: 0;\n",
       "  margin: 0;\n",
       "}\n",
       "\n",
       ".xr-dim-list:before {\n",
       "  content: '(';\n",
       "}\n",
       "\n",
       ".xr-dim-list:after {\n",
       "  content: ')';\n",
       "}\n",
       "\n",
       ".xr-dim-list li:not(:last-child):after {\n",
       "  content: ',';\n",
       "  padding-right: 5px;\n",
       "}\n",
       "\n",
       ".xr-has-index {\n",
       "  font-weight: bold;\n",
       "}\n",
       "\n",
       ".xr-var-list,\n",
       ".xr-var-item {\n",
       "  display: contents;\n",
       "}\n",
       "\n",
       ".xr-var-item > div,\n",
       ".xr-var-item label,\n",
       ".xr-var-item > .xr-var-name span {\n",
       "  background-color: var(--xr-background-color-row-even);\n",
       "  margin-bottom: 0;\n",
       "}\n",
       "\n",
       ".xr-var-item > .xr-var-name:hover span {\n",
       "  padding-right: 5px;\n",
       "}\n",
       "\n",
       ".xr-var-list > li:nth-child(odd) > div,\n",
       ".xr-var-list > li:nth-child(odd) > label,\n",
       ".xr-var-list > li:nth-child(odd) > .xr-var-name span {\n",
       "  background-color: var(--xr-background-color-row-odd);\n",
       "}\n",
       "\n",
       ".xr-var-name {\n",
       "  grid-column: 1;\n",
       "}\n",
       "\n",
       ".xr-var-dims {\n",
       "  grid-column: 2;\n",
       "}\n",
       "\n",
       ".xr-var-dtype {\n",
       "  grid-column: 3;\n",
       "  text-align: right;\n",
       "  color: var(--xr-font-color2);\n",
       "}\n",
       "\n",
       ".xr-var-preview {\n",
       "  grid-column: 4;\n",
       "}\n",
       "\n",
       ".xr-index-preview {\n",
       "  grid-column: 2 / 5;\n",
       "  color: var(--xr-font-color2);\n",
       "}\n",
       "\n",
       ".xr-var-name,\n",
       ".xr-var-dims,\n",
       ".xr-var-dtype,\n",
       ".xr-preview,\n",
       ".xr-attrs dt {\n",
       "  white-space: nowrap;\n",
       "  overflow: hidden;\n",
       "  text-overflow: ellipsis;\n",
       "  padding-right: 10px;\n",
       "}\n",
       "\n",
       ".xr-var-name:hover,\n",
       ".xr-var-dims:hover,\n",
       ".xr-var-dtype:hover,\n",
       ".xr-attrs dt:hover {\n",
       "  overflow: visible;\n",
       "  width: auto;\n",
       "  z-index: 1;\n",
       "}\n",
       "\n",
       ".xr-var-attrs,\n",
       ".xr-var-data,\n",
       ".xr-index-data {\n",
       "  display: none;\n",
       "  background-color: var(--xr-background-color) !important;\n",
       "  padding-bottom: 5px !important;\n",
       "}\n",
       "\n",
       ".xr-var-attrs-in:checked ~ .xr-var-attrs,\n",
       ".xr-var-data-in:checked ~ .xr-var-data,\n",
       ".xr-index-data-in:checked ~ .xr-index-data {\n",
       "  display: block;\n",
       "}\n",
       "\n",
       ".xr-var-data > table {\n",
       "  float: right;\n",
       "}\n",
       "\n",
       ".xr-var-name span,\n",
       ".xr-var-data,\n",
       ".xr-index-name div,\n",
       ".xr-index-data,\n",
       ".xr-attrs {\n",
       "  padding-left: 25px !important;\n",
       "}\n",
       "\n",
       ".xr-attrs,\n",
       ".xr-var-attrs,\n",
       ".xr-var-data,\n",
       ".xr-index-data {\n",
       "  grid-column: 1 / -1;\n",
       "}\n",
       "\n",
       "dl.xr-attrs {\n",
       "  padding: 0;\n",
       "  margin: 0;\n",
       "  display: grid;\n",
       "  grid-template-columns: 125px auto;\n",
       "}\n",
       "\n",
       ".xr-attrs dt,\n",
       ".xr-attrs dd {\n",
       "  padding: 0;\n",
       "  margin: 0;\n",
       "  float: left;\n",
       "  padding-right: 10px;\n",
       "  width: auto;\n",
       "}\n",
       "\n",
       ".xr-attrs dt {\n",
       "  font-weight: normal;\n",
       "  grid-column: 1;\n",
       "}\n",
       "\n",
       ".xr-attrs dt:hover span {\n",
       "  display: inline-block;\n",
       "  background: var(--xr-background-color);\n",
       "  padding-right: 10px;\n",
       "}\n",
       "\n",
       ".xr-attrs dd {\n",
       "  grid-column: 2;\n",
       "  white-space: pre-wrap;\n",
       "  word-break: break-all;\n",
       "}\n",
       "\n",
       ".xr-icon-database,\n",
       ".xr-icon-file-text2,\n",
       ".xr-no-icon {\n",
       "  display: inline-block;\n",
       "  vertical-align: middle;\n",
       "  width: 1em;\n",
       "  height: 1.5em !important;\n",
       "  stroke-width: 0;\n",
       "  stroke: currentColor;\n",
       "  fill: currentColor;\n",
       "}\n",
       "</style><pre class='xr-text-repr-fallback'>&lt;xarray.DataArray &#x27;spatial_ref&#x27; ()&gt;\n",
       "[1 values with dtype=int64]\n",
       "Coordinates:\n",
       "    spatial_ref  int64 ...\n",
       "Attributes:\n",
       "    crs_wkt:                      GEOGCS[&quot;WGS 84&quot;,DATUM[&quot;WGS_1984&quot;,SPHEROID[&quot;...\n",
       "    semi_major_axis:              6378137.0\n",
       "    semi_minor_axis:              6356752.314245179\n",
       "    inverse_flattening:           298.257223563\n",
       "    reference_ellipsoid_name:     WGS 84\n",
       "    longitude_of_prime_meridian:  0.0\n",
       "    prime_meridian_name:          Greenwich\n",
       "    geographic_crs_name:          WGS 84\n",
       "    horizontal_datum_name:        World Geodetic System 1984\n",
       "    grid_mapping_name:            latitude_longitude\n",
       "    spatial_ref:                  GEOGCS[&quot;WGS 84&quot;,DATUM[&quot;WGS_1984&quot;,SPHEROID[&quot;...\n",
       "    GeoTransform:                 97.34874962141672 0.0083333333 0.0 20.46625...</pre><div class='xr-wrap' style='display:none'><div class='xr-header'><div class='xr-obj-type'>xarray.DataArray</div><div class='xr-array-name'>'spatial_ref'</div></div><ul class='xr-sections'><li class='xr-section-item'><div class='xr-array-wrap'><input id='section-4e8b62d5-f3dd-4524-a306-0b1a85afd084' class='xr-array-in' type='checkbox' checked><label for='section-4e8b62d5-f3dd-4524-a306-0b1a85afd084' title='Show/hide data repr'><svg class='icon xr-icon-database'><use xlink:href='#icon-database'></use></svg></label><div class='xr-array-preview xr-preview'><span>...</span></div><div class='xr-array-data'><pre>[1 values with dtype=int64]</pre></div></div></li><li class='xr-section-item'><input id='section-fdfc4c22-5413-4086-9899-dda00a68f5a4' class='xr-section-summary-in' type='checkbox'  checked><label for='section-fdfc4c22-5413-4086-9899-dda00a68f5a4' class='xr-section-summary' >Coordinates: <span>(1)</span></label><div class='xr-section-inline-details'></div><div class='xr-section-details'><ul class='xr-var-list'><li class='xr-var-item'><div class='xr-var-name'><span>spatial_ref</span></div><div class='xr-var-dims'>()</div><div class='xr-var-dtype'>int64</div><div class='xr-var-preview xr-preview'>...</div><input id='attrs-c2470e74-4159-42c7-bc64-457d342bc79d' class='xr-var-attrs-in' type='checkbox' ><label for='attrs-c2470e74-4159-42c7-bc64-457d342bc79d' title='Show/Hide attributes'><svg class='icon xr-icon-file-text2'><use xlink:href='#icon-file-text2'></use></svg></label><input id='data-8f8e4512-fa69-4f91-a0fd-94617efe1284' class='xr-var-data-in' type='checkbox'><label for='data-8f8e4512-fa69-4f91-a0fd-94617efe1284' title='Show/Hide data repr'><svg class='icon xr-icon-database'><use xlink:href='#icon-database'></use></svg></label><div class='xr-var-attrs'><dl class='xr-attrs'><dt><span>crs_wkt :</span></dt><dd>GEOGCS[&quot;WGS 84&quot;,DATUM[&quot;WGS_1984&quot;,SPHEROID[&quot;WGS 84&quot;,6378137,298.257223563,AUTHORITY[&quot;EPSG&quot;,&quot;7030&quot;]],AUTHORITY[&quot;EPSG&quot;,&quot;6326&quot;]],PRIMEM[&quot;Greenwich&quot;,0,AUTHORITY[&quot;EPSG&quot;,&quot;8901&quot;]],UNIT[&quot;degree&quot;,0.0174532925199433,AUTHORITY[&quot;EPSG&quot;,&quot;9122&quot;]],AXIS[&quot;Latitude&quot;,NORTH],AXIS[&quot;Longitude&quot;,EAST],AUTHORITY[&quot;EPSG&quot;,&quot;4326&quot;]]</dd><dt><span>semi_major_axis :</span></dt><dd>6378137.0</dd><dt><span>semi_minor_axis :</span></dt><dd>6356752.314245179</dd><dt><span>inverse_flattening :</span></dt><dd>298.257223563</dd><dt><span>reference_ellipsoid_name :</span></dt><dd>WGS 84</dd><dt><span>longitude_of_prime_meridian :</span></dt><dd>0.0</dd><dt><span>prime_meridian_name :</span></dt><dd>Greenwich</dd><dt><span>geographic_crs_name :</span></dt><dd>WGS 84</dd><dt><span>horizontal_datum_name :</span></dt><dd>World Geodetic System 1984</dd><dt><span>grid_mapping_name :</span></dt><dd>latitude_longitude</dd><dt><span>spatial_ref :</span></dt><dd>GEOGCS[&quot;WGS 84&quot;,DATUM[&quot;WGS_1984&quot;,SPHEROID[&quot;WGS 84&quot;,6378137,298.257223563,AUTHORITY[&quot;EPSG&quot;,&quot;7030&quot;]],AUTHORITY[&quot;EPSG&quot;,&quot;6326&quot;]],PRIMEM[&quot;Greenwich&quot;,0,AUTHORITY[&quot;EPSG&quot;,&quot;8901&quot;]],UNIT[&quot;degree&quot;,0.0174532925199433,AUTHORITY[&quot;EPSG&quot;,&quot;9122&quot;]],AXIS[&quot;Latitude&quot;,NORTH],AXIS[&quot;Longitude&quot;,EAST],AUTHORITY[&quot;EPSG&quot;,&quot;4326&quot;]]</dd><dt><span>GeoTransform :</span></dt><dd>97.34874962141672 0.0083333333 0.0 20.46625011845613 0.0 -0.0083333333</dd></dl></div><div class='xr-var-data'><pre>[1 values with dtype=int64]</pre></div></li></ul></div></li><li class='xr-section-item'><input id='section-67251bf3-65d1-4b0c-9fb2-2f133dde9d21' class='xr-section-summary-in' type='checkbox' disabled ><label for='section-67251bf3-65d1-4b0c-9fb2-2f133dde9d21' class='xr-section-summary'  title='Expand/collapse section'>Indexes: <span>(0)</span></label><div class='xr-section-inline-details'></div><div class='xr-section-details'><ul class='xr-var-list'></ul></div></li><li class='xr-section-item'><input id='section-1cd0ba23-36a5-428a-a922-1f634de401ab' class='xr-section-summary-in' type='checkbox'  ><label for='section-1cd0ba23-36a5-428a-a922-1f634de401ab' class='xr-section-summary' >Attributes: <span>(12)</span></label><div class='xr-section-inline-details'></div><div class='xr-section-details'><dl class='xr-attrs'><dt><span>crs_wkt :</span></dt><dd>GEOGCS[&quot;WGS 84&quot;,DATUM[&quot;WGS_1984&quot;,SPHEROID[&quot;WGS 84&quot;,6378137,298.257223563,AUTHORITY[&quot;EPSG&quot;,&quot;7030&quot;]],AUTHORITY[&quot;EPSG&quot;,&quot;6326&quot;]],PRIMEM[&quot;Greenwich&quot;,0,AUTHORITY[&quot;EPSG&quot;,&quot;8901&quot;]],UNIT[&quot;degree&quot;,0.0174532925199433,AUTHORITY[&quot;EPSG&quot;,&quot;9122&quot;]],AXIS[&quot;Latitude&quot;,NORTH],AXIS[&quot;Longitude&quot;,EAST],AUTHORITY[&quot;EPSG&quot;,&quot;4326&quot;]]</dd><dt><span>semi_major_axis :</span></dt><dd>6378137.0</dd><dt><span>semi_minor_axis :</span></dt><dd>6356752.314245179</dd><dt><span>inverse_flattening :</span></dt><dd>298.257223563</dd><dt><span>reference_ellipsoid_name :</span></dt><dd>WGS 84</dd><dt><span>longitude_of_prime_meridian :</span></dt><dd>0.0</dd><dt><span>prime_meridian_name :</span></dt><dd>Greenwich</dd><dt><span>geographic_crs_name :</span></dt><dd>WGS 84</dd><dt><span>horizontal_datum_name :</span></dt><dd>World Geodetic System 1984</dd><dt><span>grid_mapping_name :</span></dt><dd>latitude_longitude</dd><dt><span>spatial_ref :</span></dt><dd>GEOGCS[&quot;WGS 84&quot;,DATUM[&quot;WGS_1984&quot;,SPHEROID[&quot;WGS 84&quot;,6378137,298.257223563,AUTHORITY[&quot;EPSG&quot;,&quot;7030&quot;]],AUTHORITY[&quot;EPSG&quot;,&quot;6326&quot;]],PRIMEM[&quot;Greenwich&quot;,0,AUTHORITY[&quot;EPSG&quot;,&quot;8901&quot;]],UNIT[&quot;degree&quot;,0.0174532925199433,AUTHORITY[&quot;EPSG&quot;,&quot;9122&quot;]],AXIS[&quot;Latitude&quot;,NORTH],AXIS[&quot;Longitude&quot;,EAST],AUTHORITY[&quot;EPSG&quot;,&quot;4326&quot;]]</dd><dt><span>GeoTransform :</span></dt><dd>97.34874962141672 0.0083333333 0.0 20.46625011845613 0.0 -0.0083333333</dd></dl></div></li></ul></div></div>"
      ],
      "text/plain": [
       "<xarray.DataArray 'spatial_ref' ()>\n",
       "[1 values with dtype=int64]\n",
       "Coordinates:\n",
       "    spatial_ref  int64 ...\n",
       "Attributes:\n",
       "    crs_wkt:                      GEOGCS[\"WGS 84\",DATUM[\"WGS_1984\",SPHEROID[\"...\n",
       "    semi_major_axis:              6378137.0\n",
       "    semi_minor_axis:              6356752.314245179\n",
       "    inverse_flattening:           298.257223563\n",
       "    reference_ellipsoid_name:     WGS 84\n",
       "    longitude_of_prime_meridian:  0.0\n",
       "    prime_meridian_name:          Greenwich\n",
       "    geographic_crs_name:          WGS 84\n",
       "    horizontal_datum_name:        World Geodetic System 1984\n",
       "    grid_mapping_name:            latitude_longitude\n",
       "    spatial_ref:                  GEOGCS[\"WGS 84\",DATUM[\"WGS_1984\",SPHEROID[\"...\n",
       "    GeoTransform:                 97.34874962141672 0.0083333333 0.0 20.46625..."
      ]
     },
     "execution_count": 26,
     "metadata": {},
     "output_type": "execute_result"
    }
   ],
   "source": [
    "pop['spatial_ref'] # Check crs"
   ]
  },
  {
   "cell_type": "code",
   "execution_count": 27,
   "id": "e37da5d6",
   "metadata": {},
   "outputs": [],
   "source": [
    "# Extract bounding box from the data\n",
    "lat = pop.coords['y']; lon = pop.coords['x']\n",
    "min_lon = float(lon.min()); max_lon = float(lon.max())\n",
    "min_lat = float(lat.min()); max_lat = float(lat.max())"
   ]
  },
  {
   "cell_type": "code",
   "execution_count": 28,
   "id": "c80a6d7d",
   "metadata": {},
   "outputs": [],
   "source": [
    "tha_xr = gpd.clip(gdf, mask=(min_lon, min_lat, max_lon, max_lat))"
   ]
  },
  {
   "cell_type": "code",
   "execution_count": 29,
   "id": "8889dedc",
   "metadata": {},
   "outputs": [
    {
     "data": {
      "text/plain": [
       "<Axes: >"
      ]
     },
     "execution_count": 29,
     "metadata": {},
     "output_type": "execute_result"
    },
    {
     "data": {
      "image/png": "[encoded data removed]",
      "text/plain": [
       "<Figure size 640x480 with 1 Axes>"
      ]
     },
     "metadata": {},
     "output_type": "display_data"
    }
   ],
   "source": [
    "tha_xr.plot()"
   ]
  },
  {
   "cell_type": "markdown",
   "id": "603d5209",
   "metadata": {},
   "source": [
    "- Using Rasterio"
   ]
  },
  {
   "cell_type": "code",
   "execution_count": 30,
   "id": "ab2eb788",
   "metadata": {},
   "outputs": [],
   "source": [
    "pop = rasterio.open(data_path + 'tha_pd_2020_1km.tif')"
   ]
  },
  {
   "cell_type": "code",
   "execution_count": 31,
   "id": "8bd8999f",
   "metadata": {},
   "outputs": [],
   "source": [
    "tha3 = gpd.clip(gdf, mask=pop.bounds)    #Get the bounding box info from the bounds attribute"
   ]
  },
  {
   "cell_type": "code",
   "execution_count": 32,
   "id": "e33ecca3",
   "metadata": {},
   "outputs": [
    {
     "data": {
      "text/plain": [
       "<Axes: >"
      ]
     },
     "execution_count": 32,
     "metadata": {},
     "output_type": "execute_result"
    },
    {
     "data": {
      "image/png": "[encoded data removed]",
      "text/plain": [
       "<Figure size 640x480 with 1 Axes>"
      ]
     },
     "metadata": {},
     "output_type": "display_data"
    }
   ],
   "source": [
    "tha3.plot()"
   ]
  }
 ],
 "metadata": {
  "kernelspec": {
   "display_name": "Python [conda env:land_use]",
   "language": "python",
   "name": "conda-env-land_use-py"
  },
  "language_info": {
   "codemirror_mode": {
    "name": "ipython",
    "version": 3
   },
   "file_extension": ".py",
   "mimetype": "text/x-python",
   "name": "python",
   "nbconvert_exporter": "python",
   "pygments_lexer": "ipython3",
   "version": "3.11.3"
  }
 },
 "nbformat": 4,
 "nbformat_minor": 5
}
